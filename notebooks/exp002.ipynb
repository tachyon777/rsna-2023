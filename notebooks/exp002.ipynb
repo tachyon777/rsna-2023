{
 "cells": [
  {
   "attachments": {},
   "cell_type": "markdown",
   "metadata": {},
   "source": [
    "# exp002  \n",
    "データセットの作成（プロト）  \n",
    "コードはスクリプト化する。  \n",
    "データセット名は`dataset001`とし、本リポジトリ`data`直下に配置する。  \n",
    "[Notion](https://www.notion.so/exp002-bb2a83196eba4feea0ae273917540f54?pvs=4)"
   ]
  },
  {
   "cell_type": "code",
   "execution_count": 1,
   "metadata": {},
   "outputs": [],
   "source": [
    "import os\n",
    "import sys\n",
    "import numpy as np\n",
    "import pandas as pd\n",
    "import matplotlib.pyplot as plt\n",
    "import pydicom\n",
    "import warnings\n",
    "from tqdm import tqdm\n",
    "\n",
    "%matplotlib inline\n",
    "warnings.filterwarnings(\"ignore\")\n",
    "\n",
    "# リポジトリtopに移動\n",
    "while os.path.basename(os.getcwd()) != 'rsna-2023':\n",
    "    os.chdir('../')\n",
    "    if os.getcwd() == '/':\n",
    "        raise Exception('Could not find project root directory.')\n",
    "    \n",
    "from src.data_io import load_dicom_series"
   ]
  },
  {
   "cell_type": "code",
   "execution_count": 2,
   "metadata": {},
   "outputs": [],
   "source": [
    "df_train = pd.read_csv('data/rsna-2023-abdominal-trauma-detection/train.csv')\n",
    "df_train_image_level = pd.read_csv('data/rsna-2023-abdominal-trauma-detection/image_level_labels.csv')\n",
    "df_train_serirs_meta = pd.read_csv('data/rsna-2023-abdominal-trauma-detection/train_series_meta.csv')\n",
    "\n",
    "base_dir = \"data/rsna-2023-abdominal-trauma-detection\"\n",
    "dataset_dir = \"data/dataset001\""
   ]
  },
  {
   "cell_type": "code",
   "execution_count": 3,
   "metadata": {},
   "outputs": [
    {
     "data": {
      "text/plain": [
       "4711"
      ]
     },
     "execution_count": 3,
     "metadata": {},
     "output_type": "execute_result"
    }
   ],
   "source": [
    "len(df_train_serirs_meta)"
   ]
  },
  {
   "attachments": {},
   "cell_type": "markdown",
   "metadata": {},
   "source": [
    "# 全dicom画像をHU値で.npy形式(int16)に変換・保存  "
   ]
  },
  {
   "cell_type": "code",
   "execution_count": 4,
   "metadata": {},
   "outputs": [
    {
     "name": "stderr",
     "output_type": "stream",
     "text": [
      "745it [2:18:58,  6.12s/it]"
     ]
    }
   ],
   "source": [
    "for idx, (pid, sid) in tqdm(enumerate(zip(df_train_serirs_meta[\"patient_id\"], df_train_serirs_meta[\"series_id\"]))):\n",
    "    series_path = os.path.join(base_dir, \"train_images\", str(pid), str(sid))\n",
    "    image_arr, path_list, meta_list = load_dicom_series(series_path)\n",
    "    output_dir = os.path.join(dataset_dir, \"train_images\", str(pid), str(sid))\n",
    "    os.makedirs(output_dir, exist_ok=True)\n",
    "    for idx, path in enumerate(path_list):\n",
    "        path = path.replace(\".dcm\", \".npy\")\n",
    "        np.save(os.path.join(output_dir, path), image_arr[idx])"
   ]
  }
 ],
 "metadata": {
  "kernelspec": {
   "display_name": "env_1",
   "language": "python",
   "name": "python3"
  },
  "language_info": {
   "codemirror_mode": {
    "name": "ipython",
    "version": 3
   },
   "file_extension": ".py",
   "mimetype": "text/x-python",
   "name": "python",
   "nbconvert_exporter": "python",
   "pygments_lexer": "ipython3",
   "version": "3.9.12"
  },
  "orig_nbformat": 4
 },
 "nbformat": 4,
 "nbformat_minor": 2
}
