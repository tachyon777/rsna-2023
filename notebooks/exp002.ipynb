{
 "cells": [
  {
   "attachments": {},
   "cell_type": "markdown",
   "metadata": {},
   "source": [
    "# exp002  \n",
    "データセットの作成（プロト）  \n",
    "コードはスクリプト化する。  \n",
    "データセット名は`dataset001`とし、本リポジトリ`data`直下に配置する。  \n",
    "[Notion](https://www.notion.so/exp002-bb2a83196eba4feea0ae273917540f54?pvs=4)"
   ]
  },
  {
   "cell_type": "code",
   "execution_count": 6,
   "metadata": {},
   "outputs": [],
   "source": [
    "import os\n",
    "import sys\n",
    "import numpy as np\n",
    "import pandas as pd\n",
    "import matplotlib.pyplot as plt\n",
    "import pydicom\n",
    "import nibabel as nib\n",
    "import warnings\n",
    "from tqdm import tqdm\n",
    "\n",
    "%matplotlib inline\n",
    "warnings.filterwarnings(\"ignore\")\n",
    "\n",
    "# リポジトリtopに移動\n",
    "while os.path.basename(os.getcwd()) != 'rsna-2023':\n",
    "    os.chdir('../')\n",
    "    if os.getcwd() == '/':\n",
    "        raise Exception('Could not find project root directory.')\n",
    "    \n",
    "from src.data_io import load_dicom_series"
   ]
  },
  {
   "cell_type": "code",
   "execution_count": 7,
   "metadata": {},
   "outputs": [],
   "source": [
    "df_train = pd.read_csv('data/rsna-2023-abdominal-trauma-detection/train.csv')\n",
    "df_train_image_level = pd.read_csv('data/rsna-2023-abdominal-trauma-detection/image_level_labels.csv')\n",
    "df_train_serirs_meta = pd.read_csv('data/rsna-2023-abdominal-trauma-detection/train_series_meta.csv')\n",
    "\n",
    "base_dir = \"data/rsna-2023-abdominal-trauma-detection\"\n",
    "dataset_dir = \"data/dataset001\""
   ]
  },
  {
   "cell_type": "code",
   "execution_count": 8,
   "metadata": {},
   "outputs": [
    {
     "data": {
      "text/plain": [
       "4711"
      ]
     },
     "execution_count": 8,
     "metadata": {},
     "output_type": "execute_result"
    }
   ],
   "source": [
    "len(df_train_serirs_meta)"
   ]
  },
  {
   "attachments": {},
   "cell_type": "markdown",
   "metadata": {},
   "source": [
    "# 全dicom画像をHU値で.npy形式(int16)に変換・保存  "
   ]
  },
  {
   "cell_type": "code",
   "execution_count": 4,
   "metadata": {},
   "outputs": [
    {
     "name": "stderr",
     "output_type": "stream",
     "text": [
      "4711it [16:02:19, 12.26s/it]\n"
     ]
    }
   ],
   "source": [
    "for idx, (pid, sid) in tqdm(enumerate(zip(df_train_serirs_meta[\"patient_id\"], df_train_serirs_meta[\"series_id\"]))):\n",
    "    series_path = os.path.join(base_dir, \"train_images\", str(pid), str(sid))\n",
    "    image_arr, path_list, meta_list = load_dicom_series(series_path)\n",
    "    output_dir = os.path.join(dataset_dir, \"train_images\", str(pid), str(sid))\n",
    "    os.makedirs(output_dir, exist_ok=True)\n",
    "    for idx, path in enumerate(path_list):\n",
    "        path = path.replace(\".dcm\", \".npy\")\n",
    "        np.save(os.path.join(output_dir, path), image_arr[idx])"
   ]
  },
  {
   "attachments": {},
   "cell_type": "markdown",
   "metadata": {},
   "source": [
    "# セグメンテーション画像をマルチラベル.npz(uint8)に変換・保存  \n",
    "スライスごとに保存。(H, W, C)のchannel last"
   ]
  },
  {
   "cell_type": "code",
   "execution_count": null,
   "metadata": {},
   "outputs": [],
   "source": [
    "# 以下の辞書型のデータはすべて0-indexedであることに注意する.\n",
    "organ_index_dict_inv = {\n",
    "    0: 'liver',\n",
    "    1: 'spleen',\n",
    "    2: 'kidney_left',\n",
    "    3: 'kidney_right',\n",
    "    4: 'bowel',\n",
    "}\n",
    "organ_index_dict = {v: k for k, v in organ_index_dict_inv.items()}\n",
    "organ_index_dict_nolr_inv = {\n",
    "    0: 'liver',\n",
    "    1: 'spleen',\n",
    "    2: 'kidney',\n",
    "    3: 'bowel',\n",
    "}\n",
    "organ_index_dict_nolr = {v: k for k, v in organ_index_dict_inv.items()}\n",
    "\n",
    "def lrlabel_mix(mask: np.ndarray)-> np.ndarray:\n",
    "    \"\"\"左右の腎臓を混ぜる.\n",
    "    Args:\n",
    "        mask (np.ndarray): (H, W, C)のマスク画像.\n",
    "    \"\"\"\n",
    "    lrlabels_dict_inv = {\n",
    "        'liver': 0,\n",
    "        'spleen': 1,\n",
    "        'kidney_left': 2,\n",
    "        'kidney_right': 2,\n",
    "        'bowel': 3,   \n",
    "    }\n",
    "    new_mask = np.zeros((mask.shape[:2] + (len(organ_index_dict_nolr_inv),)))\n",
    "    for organ, index in organ_index_dict.items():\n",
    "        new_index = lrlabels_dict_inv[organ]\n",
    "        new_mask[...,new_index] += mask[...,index]\n",
    "    return new_mask\n",
    "\n",
    "def match_orientation(img: np.ndarray) -> np.ndarray:\n",
    "    \"\"\"niftyの向きをdicomの向きに合わせる.\n",
    "    Args:\n",
    "        img (numpy.ndarray): 読み込んで、npに変換しただけのnifty画像.\n",
    "    Reference:\n",
    "        https://www.kaggle.com/code/parhammostame/construct-3d-arrays-from-dcm-nii-3-view-angles\n",
    "    \"\"\"\n",
    "    img = np.transpose(img, [1, 0, 2])\n",
    "    img = np.rot90(img, 1, (1,2))\n",
    "    img = img[::-1,:,:]\n",
    "    img = np.transpose(img, [1, 0, 2])\n",
    "    return img\n",
    "\n",
    "def get_any_labels_info(seg_arr: np.ndarray) -> dict:\n",
    "    \"\"\"シリーズ単位の、どのラベルが存在するかの情報を取得する.\"\"\"\n",
    "    labels_info = dict()\n",
    "    any_flag = 0\n",
    "    for label_id, label_name in organ_index_dict_inv.items():\n",
    "        exist_flag = 1 if (seg_arr == label_id+1).any() else 0 # 1-indexed\n",
    "        labels_info[label_name] = exist_flag\n",
    "        any_flag += exist_flag\n",
    "    labels_info[\"any\"] = min(1, any_flag)\n",
    "    \n",
    "    return labels_info\n",
    "\n",
    "def make_multilabel_mask(seg_arr: np.ndarray) -> np.ndarray:\n",
    "    \"\"\"マルチラベルのマスク画像を作成.\n",
    "    Note:\n",
    "        - channel last\n",
    "        - lrlabel_mixで腎臓の左右ラベルを混ぜている\n",
    "    \"\"\"\n",
    "    mask = np.zeros(seg_arr.shape+(len(organ_index_dict_inv),), dtype=np.uint8)\n",
    "    for idx,label_id in enumerate(organ_index_dict_inv.keys()):\n",
    "        mask[...,idx] = seg_arr == label_id + 1 # 1-indexed\n",
    "    mask = lrlabel_mix(mask)\n",
    "    return mask\n",
    "\n",
    "df_seg_info_series = list()\n",
    "df_seg_info_image = list()\n",
    "base_dir = \"data/rsna-2023-abdominal-trauma-detection/segmentations/\"\n",
    "for sid in os.listdir(base_dir):\n",
    "    sid = int(sid.replace(\".nii\", \"\"))\n",
    "    pid = df_train_serirs_meta[df_train_serirs_meta[\"series_id\"] == sid][\"patient_id\"].values[0]\n",
    "    print(sid)\n",
    "    path = os.path.join(base_dir, f\"{sid}.nii\")\n",
    "    nii_img = nib.load(path)\n",
    "    seg_arr = nii_img.get_fdata()\n",
    "    seg_arr = np.array(seg_arr, dtype=np.uint8)\n",
    "    seg_arr = match_orientation(seg_arr)\n",
    "    ct_images_dir = f\"data/rsna-2023-abdominal-trauma-detection/train_images/{pid}/{sid}\"\n",
    "    path_list = os.listdir(ct_images_dir)\n",
    "    path_list = [[int(path.replace(\".dcm\",\"\")), path] for path in path_list]\n",
    "    path_list.sort()\n",
    "    assert len(path_list) == seg_arr.shape[0]\n",
    "    for idx, (image_id, path) in enumerate(path_list):\n",
    "        img = seg_arr[idx]\n",
    "        image_level_dict = get_any_labels_info(img)\n",
    "        image_level_dict[\"patient_id\"] = pid\n",
    "        image_level_dict[\"series_id\"] = sid\n",
    "        image_level_dict[\"image_id\"] = image_id\n",
    "        image_level_dict[\"image_index\"] = idx\n",
    "        df_seg_info_image.append(image_level_dict)\n",
    "        if img.sum() > 0:\n",
    "            img_multilabel = make_multilabel_mask(img)\n",
    "            os.makedirs(f\"data/dataset001/segmentations/{sid}\", exist_ok=True)\n",
    "            np.savez_compressed(f\"data/dataset001/segmentations/{sid}/{image_id}.npz\", img_multilabel)\n",
    "            \n",
    "    series_level_dict = get_any_labels_info(seg_arr)\n",
    "    series_level_dict[\"patient_id\"] = pid\n",
    "    series_level_dict[\"series_id\"] = sid\n",
    "    df_seg_info_series.append(series_level_dict)"
   ]
  },
  {
   "cell_type": "code",
   "execution_count": null,
   "metadata": {},
   "outputs": [],
   "source": [
    "df_seg_info_image = pd.DataFrame(df_seg_info_image)\n",
    "df_seg_info_series = pd.DataFrame(df_seg_info_series)\n",
    "df_seg_info_image.to_csv(\"data/dataset001/seg_info_image.csv\")\n",
    "df_seg_info_series.to_csv(\"data/dataset001/seg_info_series.csv\")"
   ]
  }
 ],
 "metadata": {
  "kernelspec": {
   "display_name": "env_1",
   "language": "python",
   "name": "python3"
  },
  "language_info": {
   "codemirror_mode": {
    "name": "ipython",
    "version": 3
   },
   "file_extension": ".py",
   "mimetype": "text/x-python",
   "name": "python",
   "nbconvert_exporter": "python",
   "pygments_lexer": "ipython3",
   "version": "3.9.12"
  },
  "orig_nbformat": 4
 },
 "nbformat": 4,
 "nbformat_minor": 2
}
